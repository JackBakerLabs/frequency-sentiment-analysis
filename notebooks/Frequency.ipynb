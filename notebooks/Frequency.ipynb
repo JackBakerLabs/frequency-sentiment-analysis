{
 "cells": [
  {
   "cell_type": "code",
   "execution_count": 1,
   "id": "1e146264-5c6d-4d93-b5a2-a77379614e7e",
   "metadata": {},
   "outputs": [],
   "source": [
    "import pandas as pd"
   ]
  },
  {
   "cell_type": "code",
   "execution_count": 4,
   "id": "d65899fd-d1aa-4e07-8c1f-839788a129fe",
   "metadata": {},
   "outputs": [],
   "source": [
    "df = pd.read_csv('/Users/admin/Downloads/Consumer_Vape_Feedback_Data.csv')"
   ]
  },
  {
   "cell_type": "code",
   "execution_count": 17,
   "id": "9e3af0e6-fc47-4f61-bf9e-e7d98daeda92",
   "metadata": {},
   "outputs": [],
   "source": [
    "df['ParticipantID']\n",
    "df['ProductCode']\n",
    "\n",
    "\n",
    "rel_cols = [col for col in df.columns if df[col].dtypes!=int and col!='ParticipantID' ]+ ['ProductCode']\n",
    "df = df[rel_cols]\n",
    "\n"
   ]
  },
  {
   "cell_type": "code",
   "execution_count": 27,
   "id": "a861ee24-8e01-4f3e-bb87-5ab5fe12ad8f",
   "metadata": {},
   "outputs": [
    {
     "name": "stdout",
     "output_type": "stream",
     "text": [
      "cmments, 3, 0\n"
     ]
    }
   ],
   "source": [
    "from symspellpy import SymSpell, Verbosity\n",
    "sym_spell = SymSpell()\n",
    "input_term='cmments'\n",
    "suggestions = sym_spell.lookup(input_term, Verbosity.CLOSEST,\n",
    "                               max_edit_distance=2, include_unknown=True)\n",
    "for suggestion in suggestions:\n",
    "    print(suggestion)"
   ]
  }
 ],
 "metadata": {
  "kernelspec": {
   "display_name": "Python 3 (ipykernel)",
   "language": "python",
   "name": "python3"
  },
  "language_info": {
   "codemirror_mode": {
    "name": "ipython",
    "version": 3
   },
   "file_extension": ".py",
   "mimetype": "text/x-python",
   "name": "python",
   "nbconvert_exporter": "python",
   "pygments_lexer": "ipython3",
   "version": "3.10.0"
  }
 },
 "nbformat": 4,
 "nbformat_minor": 5
}
